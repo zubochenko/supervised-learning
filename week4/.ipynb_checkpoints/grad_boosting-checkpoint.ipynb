{
 "cells": [
  {
   "cell_type": "markdown",
   "metadata": {},
   "source": [
    "# Градиентный бустинг своими руками\n",
    "\n",
    "**Внимание:** в тексте задания произошли изменения - поменялось число деревьев (теперь 50), правило изменения величины шага в задании 3 и добавился параметр `random_state` у решающего дерева. Правильные ответы не поменялись, но теперь их проще получить. Также исправлена опечатка в функции `gbm_predict`.\n",
    "\n",
    "В этом задании будет использоваться датасет `boston` из `sklearn.datasets`. Оставьте последние 25% объектов для контроля качества, разделив `X` и `y` на `X_train`, `y_train` и `X_test`, `y_test`.\n",
    "\n",
    "Целью задания будет реализовать простой вариант градиентного бустинга над регрессионными деревьями для случая квадратичной функции потерь."
   ]
  },
  {
   "cell_type": "code",
   "execution_count": 49,
   "metadata": {},
   "outputs": [],
   "source": [
    "from sklearn.datasets import load_boston\n",
    "from sklearn.model_selection import train_test_split\n",
    "from sklearn.tree import DecisionTreeRegressor\n",
    "import numpy as np\n",
    "import pandas as pd\n",
    "from sklearn import cross_validation, tree, metrics\n",
    "import xgboost as xgb\n",
    "from sklearn.cross_validation import cross_val_score\n",
    "import matplotlib.pyplot as plt\n",
    "from sklearn.linear_model import LinearRegression"
   ]
  },
  {
   "cell_type": "code",
   "execution_count": 10,
   "metadata": {},
   "outputs": [],
   "source": [
    "boston = load_boston()\n",
    "X = boston.data\n",
    "y = boston.target\n",
    "X_train = X[:int(0.75*len(X))]\n",
    "X_test = X[int(0.75*len(X)):]\n",
    "y_train = y[:int(0.75*len(X))]\n",
    "y_test = y[int(0.75*len(X)):]"
   ]
  },
  {
   "cell_type": "markdown",
   "metadata": {},
   "source": [
    "## Задание 1\n",
    "\n",
    "Как вы уже знаете из лекций, **бустинг** - это метод построения композиций базовых алгоритмов с помощью последовательного добавления к текущей композиции нового алгоритма с некоторым коэффициентом. \n",
    "\n",
    "Градиентный бустинг обучает каждый новый алгоритм так, чтобы он приближал антиградиент ошибки по ответам композиции на обучающей выборке. Аналогично минимизации функций методом градиентного спуска, в градиентном бустинге мы подправляем композицию, изменяя алгоритм в направлении антиградиента ошибки.\n",
    "\n",
    "Воспользуйтесь формулой из лекций, задающей ответы на обучающей выборке, на которые нужно обучать новый алгоритм (фактически это лишь чуть более подробно расписанный градиент от ошибки), и получите частный ее случай, если функция потерь `L` - квадрат отклонения ответа композиции `a(x)` от правильного ответа `y` на данном `x`.\n",
    "\n",
    "Если вы давно не считали производную самостоятельно, вам поможет таблица производных элементарных функций (которую несложно найти в интернете) и правило дифференцирования сложной функции. После дифференцирования квадрата у вас возникнет множитель 2 — т.к. нам все равно предстоит выбирать коэффициент, с которым будет добавлен новый базовый алгоритм, проигноируйте этот множитель при дальнейшем построении алгоритма."
   ]
  },
  {
   "cell_type": "markdown",
   "metadata": {
    "collapsed": true
   },
   "source": [
    "$s_i = -(a(x_i) - y_i)$"
   ]
  },
  {
   "cell_type": "markdown",
   "metadata": {},
   "source": [
    "## Задание 2\n",
    "\n",
    "Заведите массив для объектов `DecisionTreeRegressor` (будем их использовать в качестве базовых алгоритмов) и для вещественных чисел (это будут коэффициенты перед базовыми алгоритмами). \n",
    "\n",
    "В цикле от обучите последовательно 50 решающих деревьев с параметрами `max_depth=5` и `random_state=42` (остальные параметры - по умолчанию). В бустинге зачастую используются сотни и тысячи деревьев, но мы ограничимся 50, чтобы алгоритм работал быстрее, и его было проще отлаживать (т.к. цель задания разобраться, как работает метод). Каждое дерево должно обучаться на одном и том же множестве объектов, но ответы, которые учится прогнозировать дерево, будут меняться в соответствие с полученным в задании 1 правилом. \n",
    "\n",
    "Попробуйте для начала всегда брать коэффициент равным 0.9. Обычно оправдано выбирать коэффициент значительно меньшим - порядка 0.05 или 0.1, но т.к. в нашем учебном примере на стандартном датасете будет всего 50 деревьев, возьмем для начала шаг побольше.\n",
    "\n",
    "В процессе реализации обучения вам потребуется функция, которая будет вычислять прогноз построенной на данный момент композиции деревьев на выборке `X`:\n",
    "\n",
    "```\n",
    "def gbm_predict(X):\n",
    "    return [sum([coeff * algo.predict([x])[0] for algo, coeff in zip(base_algorithms_list, coefficients_list)]) for x in X]\n",
    "(считаем, что base_algorithms_list - список с базовыми алгоритмами, coefficients_list - список с коэффициентами перед алгоритмами)\n",
    "```\n",
    "\n",
    "Эта же функция поможет вам получить прогноз на контрольной выборке и оценить качество работы вашего алгоритма с помощью `mean_squared_error` в `sklearn.metrics`. \n",
    "\n",
    "Возведите результат в степень 0.5, чтобы получить `RMSE`. Полученное значение `RMSE` — **ответ в пункте 2**."
   ]
  },
  {
   "cell_type": "code",
   "execution_count": 11,
   "metadata": {},
   "outputs": [],
   "source": [
    "def gbm_predict(X):\n",
    "    return [sum([coeff * algo.predict([x])[0] for algo, coeff in zip(basics, ws)]) for x in X]"
   ]
  },
  {
   "cell_type": "code",
   "execution_count": 12,
   "metadata": {},
   "outputs": [],
   "source": [
    "basics = []\n",
    "ws = []\n",
    "y_ = np.array(y_train)\n",
    "for i in range(50):\n",
    "    dtr = DecisionTreeRegressor(max_depth=5, random_state=42)\n",
    "    dtr = dtr.fit(X_train, y_)\n",
    "    basics.append(dtr)\n",
    "    ws.append(0.9)\n",
    "    y_ = y_train - gbm_predict(X_train)\n",
    "    "
   ]
  },
  {
   "cell_type": "code",
   "execution_count": 13,
   "metadata": {},
   "outputs": [
    {
     "data": {
      "text/plain": [
       "[14.078512377151375,\n",
       " 15.487864741644511,\n",
       " 14.136095980085559,\n",
       " 15.706221564579131,\n",
       " 15.114453412890773,\n",
       " 17.07854208356321,\n",
       " 15.36294207271677,\n",
       " 15.372671301448255,\n",
       " 17.741313170238485,\n",
       " 15.41355768446858,\n",
       " 14.456994570928947,\n",
       " 15.773972215147941,\n",
       " 18.312219425594183,\n",
       " 15.413900779184758,\n",
       " 21.65888128436709,\n",
       " 16.375248741129333,\n",
       " 14.998938845848151,\n",
       " 14.063185553087875,\n",
       " 15.155909404482522,\n",
       " 16.066291931469824,\n",
       " 17.779401628905635,\n",
       " 15.736423492039815,\n",
       " 13.876935518260241,\n",
       " 14.073808950752511,\n",
       " 15.442171971590989,\n",
       " 16.870344926894006,\n",
       " 16.299587933756825,\n",
       " 14.102480329532984,\n",
       " 21.48986433178724,\n",
       " 14.901617741099548,\n",
       " 13.88148729671309,\n",
       " 21.863318180355286,\n",
       " 13.115910432467064,\n",
       " 14.903547188737395,\n",
       " 14.94967113444209,\n",
       " 14.874090294938334,\n",
       " 13.147139072774754,\n",
       " 13.762799337308792,\n",
       " 17.151697695663557,\n",
       " 15.06958108469953,\n",
       " 16.25777846193699,\n",
       " 19.33462330567482,\n",
       " 19.77486312011857,\n",
       " 22.14869762430447,\n",
       " 15.834009014545119,\n",
       " 19.76974293415632,\n",
       " 15.098792367856772,\n",
       " 23.50416764520468,\n",
       " 22.91850406060651,\n",
       " 16.844401532227444,\n",
       " 13.045227138019888,\n",
       " 16.113142011225683,\n",
       " 14.028918252856176,\n",
       " 25.83760992199819,\n",
       " 16.60420819967227,\n",
       " 20.956452206226587,\n",
       " 13.889376125971161,\n",
       " 13.586878437224494,\n",
       " 14.807850552264426,\n",
       " 16.177907853925486,\n",
       " 17.261269859960805,\n",
       " 16.139393504652563,\n",
       " 15.546197184496977,\n",
       " 15.183581339078408,\n",
       " 15.687026395326347,\n",
       " 15.44501576254879,\n",
       " 14.021193175983871,\n",
       " 15.34436071720442,\n",
       " 16.68812812721137,\n",
       " 15.837689901594555,\n",
       " 15.468806272003391,\n",
       " 15.446533536532247,\n",
       " 16.388758298588115,\n",
       " 16.362753762174844,\n",
       " 31.23746623849795,\n",
       " 14.198455134027153,\n",
       " 16.476419505659425,\n",
       " 17.20324001469473,\n",
       " 18.56978037303266,\n",
       " 16.67425116575686,\n",
       " 22.039314882375,\n",
       " 15.75034268197969,\n",
       " 22.00848643623292,\n",
       " 22.122430270640855,\n",
       " 23.19008312505059,\n",
       " 24.576906196992542,\n",
       " 22.808996719088846,\n",
       " 16.937615945781076,\n",
       " 15.192386236723141,\n",
       " 19.741512889725993,\n",
       " 23.84548537366962,\n",
       " 16.760631137831513,\n",
       " 23.642547717604806,\n",
       " 23.137931536884153,\n",
       " 36.170097815412305,\n",
       " 15.8393594742457,\n",
       " 15.238568205246905,\n",
       " 15.320215844719883,\n",
       " 15.728321448056994,\n",
       " 17.061365055078806,\n",
       " 24.304178724163997,\n",
       " 24.5035327184719,\n",
       " 29.812722144372795,\n",
       " 33.98544786703751,\n",
       " 22.968539454462608,\n",
       " 23.74194162427091,\n",
       " 22.754612151338918,\n",
       " 24.621271991997748,\n",
       " 23.44274898847662,\n",
       " 18.5109529235857,\n",
       " 15.321178847459766,\n",
       " 14.90126302304473,\n",
       " 16.201732687236888,\n",
       " 17.416143316241804,\n",
       " 19.567930387735554,\n",
       " 17.751839840836706,\n",
       " 18.729421065568005,\n",
       " 20.99119530281145,\n",
       " 20.247351964218293,\n",
       " 19.748854570118098,\n",
       " 20.49982294322327,\n",
       " 20.01123957076079,\n",
       " 29.218842434166895,\n",
       " 17.76760582228974,\n",
       " 30.111656551674173,\n",
       " 31.157663820039414,\n",
       " 17.20758958276129]"
      ]
     },
     "execution_count": 13,
     "metadata": {},
     "output_type": "execute_result"
    }
   ],
   "source": [
    "gbm_predict(X_test)"
   ]
  },
  {
   "cell_type": "code",
   "execution_count": 52,
   "metadata": {},
   "outputs": [],
   "source": [
    "x = np.sqrt(metrics.mean_squared_error(y_test, gbm_predict(X_test)))\n",
    "def write_answer1(x):\n",
    "    with open(\"1boost.txt\", \"w\") as fout:\n",
    "        fout.write(str(x))\n",
    "write_answer1(x)"
   ]
  },
  {
   "cell_type": "markdown",
   "metadata": {},
   "source": [
    "## Задание 3\n",
    "\n",
    "Вас может также беспокоить, что двигаясь с постоянным шагом, вблизи минимума ошибки ответы на обучающей выборке меняются слишком резко, перескакивая через минимум. \n",
    "\n",
    "Попробуйте уменьшать вес перед каждым алгоритмом с каждой следующей итерацией по формуле `0.9 / (1.0 + i)`, где `i` - номер итерации (от 0 до 49). Используйте качество работы алгоритма как **ответ в пункте 3**. \n",
    "\n",
    "В реальности часто применяется следующая стратегия выбора шага: как только выбран алгоритм, подберем коэффициент перед ним численным методом оптимизации таким образом, чтобы отклонение от правильных ответов было минимальным. Мы не будем предлагать вам реализовать это для выполнения задания, но рекомендуем попробовать разобраться с такой стратегией и реализовать ее при случае для себя."
   ]
  },
  {
   "cell_type": "code",
   "execution_count": 53,
   "metadata": {},
   "outputs": [],
   "source": [
    "basics = []\n",
    "ws = []\n",
    "y_ = np.array(y_train)\n",
    "for i in range(50):\n",
    "    dtr = DecisionTreeRegressor(max_depth=5, random_state=42)\n",
    "    dtr = dtr.fit(X_train, y_)\n",
    "    basics.append(dtr)\n",
    "    ws.append(0.9/(1.0+i%10))\n",
    "    y_ = y_train - gbm_predict(X_train)\n",
    "x = np.sqrt(metrics.mean_squared_error(y_test, gbm_predict(X_test)))\n",
    "def write_answer1(x):\n",
    "    with open(\"2boost.txt\", \"w\") as fout:\n",
    "        fout.write(str(x))\n",
    "write_answer1(x)"
   ]
  },
  {
   "cell_type": "markdown",
   "metadata": {},
   "source": [
    "## Задание 4\n",
    "\n",
    "Реализованный вами метод - градиентный бустинг над деревьями - очень популярен в машинном обучении. Он представлен как в самой библиотеке `sklearn`, так и в сторонней библиотеке `XGBoost`, которая имеет свой питоновский интерфейс. На практике `XGBoost` работает заметно лучше `GradientBoostingRegressor` из `sklearn`, но для этого задания вы можете использовать любую реализацию. \n",
    "\n",
    "Исследуйте, переобучается ли градиентный бустинг с ростом числа итераций (и подумайте, почему), а также с ростом глубины деревьев. На основе наблюдений выпишите через пробел номера правильных из приведенных ниже утверждений в порядке возрастания номера (это будет **ответ в п.4**):\n",
    "\n",
    "    1. С увеличением числа деревьев, начиная с некоторого момента, качество работы градиентного бустинга не меняется существенно.\n",
    "\n",
    "    2. С увеличением числа деревьев, начиная с некоторого момента, градиентный бустинг начинает переобучаться.\n",
    "\n",
    "    3. С ростом глубины деревьев, начиная с некоторого момента, качество работы градиентного бустинга на тестовой выборке начинает ухудшаться.\n",
    "\n",
    "    4. С ростом глубины деревьев, начиная с некоторого момента, качество работы градиентного бустинга перестает существенно изменяться"
   ]
  },
  {
   "cell_type": "code",
   "execution_count": 55,
   "metadata": {},
   "outputs": [],
   "source": [
    "x = '1 3 4'\n",
    "def write_answer1(x):\n",
    "    with open(\"3boost.txt\", \"w\") as fout:\n",
    "        fout.write(str(x))\n",
    "write_answer1(x)"
   ]
  },
  {
   "cell_type": "code",
   "execution_count": 54,
   "metadata": {},
   "outputs": [
    {
     "data": {
      "image/png": "[encoded data removed]",
      "text/plain": [
       "<Figure size 432x288 with 1 Axes>"
      ]
     },
     "metadata": {},
     "output_type": "display_data"
    },
    {
     "data": {
      "image/png": "[encoded data removed]",
      "text/plain": [
       "<Figure size 432x288 with 1 Axes>"
      ]
     },
     "metadata": {},
     "output_type": "display_data"
    },
    {
     "name": "stdout",
     "output_type": "stream",
     "text": [
      "CPU times: user 3.75 s, sys: 178 ms, total: 3.93 s\n",
      "Wall time: 3.97 s\n"
     ]
    }
   ],
   "source": [
    "%%time\n",
    "trees = np.arange(1, 50, 2)\n",
    "depths = np.arange(1, 50, 2)\n",
    "scores = []\n",
    "for d in depths:\n",
    "    estimator = xgb.XGBRegressor(objective ='reg:squarederror', learning_rate=0.1, \n",
    "                                     max_depth=d, n_estimators = 30, min_child_weight=3)\n",
    "    score = cross_val_score(estimator, X, y, cv = 3)    \n",
    "    scores.append(score)\n",
    "scores = np.asmatrix(scores)\n",
    "plt.plot(depths, scores.mean(axis = 1))\n",
    "plt.grid(True)\n",
    "plt.xlabel('depth')\n",
    "plt.ylabel('score')\n",
    "plt.show()\n",
    "    \n",
    "scores = []\n",
    "for tree in trees:\n",
    "    estimator = xgb.XGBRegressor(objective ='reg:squarederror', learning_rate=0.1, \n",
    "                                 max_depth=5, n_estimators = tree, min_child_weight=3)\n",
    "    score = cross_val_score(estimator, X, y, cv = 3)    \n",
    "    scores.append(score)\n",
    "scores = np.asmatrix(scores)\n",
    "plt.plot(depths, scores.mean(axis = 1))\n",
    "plt.grid(True)\n",
    "plt.xlabel('trees')\n",
    "plt.ylabel('score')\n",
    "plt.show()"
   ]
  },
  {
   "cell_type": "markdown",
   "metadata": {},
   "source": [
    "## Задание 5\n",
    "\n",
    "Сравните получаемое с помощью градиентного бустинга качество с качеством работы линейной регрессии. \n",
    "\n",
    "Для этого обучите `LinearRegression` из `sklearn.linear_model` (с параметрами по умолчанию) на обучающей выборке и оцените для прогнозов полученного алгоритма на тестовой выборке `RMSE`. Полученное качество - ответ в **пункте 5**. \n",
    "\n",
    "В данном примере качество работы простой модели должно было оказаться хуже, но не стоит забывать, что так бывает не всегда. В заданиях к этому курсу вы еще встретите пример обратной ситуации."
   ]
  },
  {
   "cell_type": "code",
   "execution_count": 56,
   "metadata": {},
   "outputs": [],
   "source": [
    "lr = LinearRegression().fit(X_train, y_train)\n",
    "pred = lr.predict(X_test)\n",
    "x = np.sqrt(metrics.mean_squared_error(y_test, pred))\n",
    "def write_answer1(x):\n",
    "    with open(\"4boost.txt\", \"w\") as fout:\n",
    "        fout.write(str(x))\n",
    "write_answer1(x)"
   ]
  }
 ],
 "metadata": {
  "kernelspec": {
   "display_name": "Python 3",
   "language": "python",
   "name": "python3"
  },
  "language_info": {
   "codemirror_mode": {
    "name": "ipython",
    "version": 3
   },
   "file_extension": ".py",
   "mimetype": "text/x-python",
   "name": "python",
   "nbconvert_exporter": "python",
   "pygments_lexer": "ipython3",
   "version": "3.6.5"
  }
 },
 "nbformat": 4,
 "nbformat_minor": 1
}
